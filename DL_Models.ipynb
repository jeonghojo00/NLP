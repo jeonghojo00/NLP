{
  "nbformat": 4,
  "nbformat_minor": 0,
  "metadata": {
    "colab": {
      "name": "DL Models",
      "provenance": [],
      "authorship_tag": "ABX9TyNBz9ZB9A76250sjoSHyIcy",
      "include_colab_link": true
    },
    "kernelspec": {
      "name": "python3",
      "display_name": "Python 3"
    },
    "language_info": {
      "name": "python"
    }
  },
  "cells": [
    {
      "cell_type": "markdown",
      "metadata": {
        "id": "view-in-github",
        "colab_type": "text"
      },
      "source": [
        "<a href=\"https://colab.research.google.com/github/jeonghojo00/NLP/blob/main/DL_Models.ipynb\" target=\"_parent\"><img src=\"https://colab.research.google.com/assets/colab-badge.svg\" alt=\"Open In Colab\"/></a>"
      ]
    },
    {
      "cell_type": "code",
      "metadata": {
        "id": "lqN01gMw_t3g"
      },
      "source": [
        "from keras import backend as K\n",
        "from keras.models import Model\n",
        "from keras.layers import (BatchNormalization, Conv1D, Dense, Input, \n",
        "    TimeDistributed, Activation, Bidirectional, SimpleRNN, GRU, LSTM)\n",
        "\n",
        "def simple_rnn_model(input_dim, output_dim=29):\n",
        "    \"\"\" Build a recurrent network for speech \n",
        "    \"\"\"\n",
        "    # Main acoustic input\n",
        "    input_data = Input(name='the_input', shape=(None, input_dim))\n",
        "    # Add recurrent layer\n",
        "    simp_rnn = GRU(output_dim, return_sequences=True, \n",
        "                 implementation=2, name='rnn')(input_data)\n",
        "    # Add softmax activation layer\n",
        "    y_pred = Activation('softmax', name='softmax')(simp_rnn)\n",
        "    # Specify the model\n",
        "    model = Model(inputs=input_data, outputs=y_pred)\n",
        "    model.output_length = lambda x: x\n",
        "    print(model.summary())\n",
        "    return model\n",
        "\n"
      ],
      "execution_count": null,
      "outputs": []
    },
    {
      "cell_type": "code",
      "metadata": {
        "id": "mcs7A0FFACh5"
      },
      "source": [
        "def rnn_model(input_dim, units, activation, output_dim=29):\n",
        "    \"\"\" Build a recurrent network for speech \n",
        "    \"\"\"\n",
        "    # Main acoustic input\n",
        "    input_data = Input(name='the_input', shape=(None, input_dim))\n",
        "    # Add recurrent layer\n",
        "    simp_rnn = GRU(units, activation=activation,\n",
        "        return_sequences=True, implementation=2, name='rnn')(input_data)\n",
        "    # TODO: Add batch normalization \n",
        "    bn_rnn = ...\n",
        "    # TODO: Add a TimeDistributed(Dense(output_dim)) layer\n",
        "    time_dense = ...\n",
        "    # Add softmax activation layer\n",
        "    y_pred = Activation('softmax', name='softmax')(time_dense)\n",
        "    # Specify the model\n",
        "    model = Model(inputs=input_data, outputs=y_pred)\n",
        "    model.output_length = lambda x: x\n",
        "    print(model.summary())\n",
        "    return model\n",
        "\n",
        "\n"
      ],
      "execution_count": null,
      "outputs": []
    },
    {
      "cell_type": "code",
      "metadata": {
        "id": "oBPFhxOuAFX_"
      },
      "source": [
        "def cnn_rnn_model(input_dim, filters, kernel_size, conv_stride,\n",
        "    conv_border_mode, units, output_dim=29):\n",
        "    \"\"\" Build a recurrent + convolutional network for speech \n",
        "    \"\"\"\n",
        "    # Main acoustic input\n",
        "    input_data = Input(name='the_input', shape=(None, input_dim))\n",
        "    # Add convolutional layer\n",
        "    conv_1d = Conv1D(filters, kernel_size, \n",
        "                     strides=conv_stride, \n",
        "                     padding=conv_border_mode,\n",
        "                     activation='relu',\n",
        "                     name='conv1d')(input_data)\n",
        "    # Add batch normalization\n",
        "    bn_cnn = BatchNormalization(name='bn_conv_1d')(conv_1d)\n",
        "    # Add a recurrent layer\n",
        "    simp_rnn = SimpleRNN(units, activation='relu',\n",
        "        return_sequences=True, implementation=2, name='rnn')(bn_cnn)\n",
        "    # TODO: Add batch normalization\n",
        "    bn_rnn = ...\n",
        "    # TODO: Add a TimeDistributed(Dense(output_dim)) layer\n",
        "    time_dense = ...\n",
        "    # Add softmax activation layer\n",
        "    y_pred = Activation('softmax', name='softmax')(time_dense)\n",
        "    # Specify the model\n",
        "    model = Model(inputs=input_data, outputs=y_pred)\n",
        "    model.output_length = lambda x: cnn_output_length(\n",
        "        x, kernel_size, conv_border_mode, conv_stride)\n",
        "    print(model.summary())\n",
        "    return model\n",
        "\n"
      ],
      "execution_count": null,
      "outputs": []
    },
    {
      "cell_type": "code",
      "metadata": {
        "id": "Q5x94OgNAHqS"
      },
      "source": [
        "def cnn_output_length(input_length, filter_size, border_mode, stride,\n",
        "                       dilation=1):\n",
        "    \"\"\" Compute the length of the output sequence after 1D convolution along\n",
        "        time. Note that this function is in line with the function used in\n",
        "        Convolution1D class from Keras.\n",
        "    Params:\n",
        "        input_length (int): Length of the input sequence.\n",
        "        filter_size (int): Width of the convolution kernel.\n",
        "        border_mode (str): Only support `same` or `valid`.\n",
        "        stride (int): Stride size used in 1D convolution.\n",
        "        dilation (int)\n",
        "    \"\"\"\n",
        "    if input_length is None:\n",
        "        return None\n",
        "    assert border_mode in {'same', 'valid'}\n",
        "    dilated_filter_size = filter_size + (filter_size - 1) * (dilation - 1)\n",
        "    if border_mode == 'same':\n",
        "        output_length = input_length\n",
        "    elif border_mode == 'valid':\n",
        "        output_length = input_length - dilated_filter_size + 1\n",
        "    return (output_length + stride - 1) // stride\n",
        "\n"
      ],
      "execution_count": null,
      "outputs": []
    },
    {
      "cell_type": "code",
      "metadata": {
        "id": "SqD-VFLPAJFq"
      },
      "source": [
        "def deep_rnn_model(input_dim, units, recur_layers, output_dim=29):\n",
        "    \"\"\" Build a deep recurrent network for speech \n",
        "    \"\"\"\n",
        "    # Main acoustic input\n",
        "    input_data = Input(name='the_input', shape=(None, input_dim))\n",
        "    # TODO: Add recurrent layers, each with batch normalization\n",
        "    ...\n",
        "    # TODO: Add a TimeDistributed(Dense(output_dim)) layer\n",
        "    time_dense = ...\n",
        "    # Add softmax activation layer\n",
        "    y_pred = Activation('softmax', name='softmax')(time_dense)\n",
        "    # Specify the model\n",
        "    model = Model(inputs=input_data, outputs=y_pred)\n",
        "    model.output_length = lambda x: x\n",
        "    print(model.summary())\n",
        "    return model\n",
        "\n"
      ],
      "execution_count": null,
      "outputs": []
    },
    {
      "cell_type": "code",
      "metadata": {
        "id": "4TGOkfxIAKm4"
      },
      "source": [
        "def bidirectional_rnn_model(input_dim, units, output_dim=29):\n",
        "    \"\"\" Build a bidirectional recurrent network for speech\n",
        "    \"\"\"\n",
        "    # Main acoustic input\n",
        "    input_data = Input(name='the_input', shape=(None, input_dim))\n",
        "    # TODO: Add bidirectional recurrent layer\n",
        "    bidir_rnn = ...\n",
        "    # TODO: Add a TimeDistributed(Dense(output_dim)) layer\n",
        "    time_dense = ...\n",
        "    # Add softmax activation layer\n",
        "    y_pred = Activation('softmax', name='softmax')(time_dense)\n",
        "    # Specify the model\n",
        "    model = Model(inputs=input_data, outputs=y_pred)\n",
        "    model.output_length = lambda x: x\n",
        "    print(model.summary())\n",
        "    return model\n",
        "\n"
      ],
      "execution_count": null,
      "outputs": []
    },
    {
      "cell_type": "code",
      "metadata": {
        "id": "PEe_LtsJAL10"
      },
      "source": [
        "def final_model():\n",
        "    \"\"\" Build a deep network for speech \n",
        "    \"\"\"\n",
        "    # Main acoustic input\n",
        "    input_data = Input(name='the_input', shape=(None, input_dim))\n",
        "    # TODO: Specify the layers in your network\n",
        "    ...\n",
        "    # TODO: Add softmax activation layer\n",
        "    y_pred = ...\n",
        "    # Specify the model\n",
        "    model = Model(inputs=input_data, outputs=y_pred)\n",
        "    # TODO: Specify model.output_length\n",
        "    model.output_length = ...\n",
        "    print(model.summary())\n",
        "    return model"
      ],
      "execution_count": null,
      "outputs": []
    }
  ]
}